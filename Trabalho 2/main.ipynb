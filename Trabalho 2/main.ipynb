{
 "cells": [
  {
   "cell_type": "code",
   "execution_count": 5,
   "metadata": {},
   "outputs": [],
   "source": [
    "import numpy as np\n",
    "import pandas as pd\n",
    "from sklearn.model_selection import train_test_split\n",
    "from sklearn.neural_network import MLPRegressor\n",
    "\n",
    "# Carregando os preços do ouro de um arquivo CSV\n",
    "data = pd.read_csv('gold_price_data.csv')\n",
    "gold_prices = data['Value']\n",
    "\n",
    "# Organizando os dados em janelas deslizantes\n",
    "X = []\n",
    "y = []\n",
    "\n",
    "n = 3 # número de dias de entrada\n",
    "\n",
    "for i in range(n, len(gold_prices)):\n",
    "    X.append(gold_prices[i-n:i])\n",
    "    y.append(gold_prices[i])\n",
    "\n",
    "X = np.array(X)\n",
    "y = np.array(y)\n",
    "\n",
    "# Dividindo os dados em conjuntos de treinamento, teste e validação\n",
    "X_train, X_test, y_train, y_test = train_test_split(X, y, test_size=0.25, random_state=42)\n",
    "\n",
    "# MLPRegressor é o perceptron multicamadas do scikit-learn para regressão\n",
    "model = MLPRegressor(hidden_layer_sizes=(5,5,5), max_iter=1000, activation='relu', solver='adam')\n",
    "\n",
    "# Treinando o modelo\n",
    "model.fit(X_train, y_train)\n",
    "\n",
    "# Verificando o score do modelo com os dados de teste\n",
    "score = model.score(X_test, y_test)\n",
    "print(\"Score do modelo: \", score)\n",
    "\n",
    "# Testando o modelo com os dados de validação\n",
    "res = model.predict(X)\n",
    "print(\"Predicted: \", res.flatten())\n",
    "print(\"Expected: \", y.flatten())"
   ]
  }
 ],
 "metadata": {
  "kernelspec": {
   "display_name": "Python 3",
   "language": "python",
   "name": "python3"
  },
  "language_info": {
   "codemirror_mode": {
    "name": "ipython",
    "version": 3
   },
   "file_extension": ".py",
   "mimetype": "text/x-python",
   "name": "python",
   "nbconvert_exporter": "python",
   "pygments_lexer": "ipython3",
   "version": "3.10.12"
  }
 },
 "nbformat": 4,
 "nbformat_minor": 2
}
