{
 "cells": [
  {
   "cell_type": "code",
   "execution_count": 1,
   "metadata": {},
   "outputs": [
    {
     "name": "stdout",
     "output_type": "stream",
     "text": [
      "SVC with linear kernel\n",
      "Tempo de treinamento: 0.5777342319488525s\n",
      "Score do modelo SVC with linear kernel nos dados de teste: 0.9420289855072463\n",
      "Predicted:  [1 0 1 1 0 1 1 0 0 0 1 1 1 0 1 1 1 1 1 1]\n",
      "Expected:  [1 0 0 1 0 1 1 0 0 0 1 1 1 0 1 1 1 1 1 1]\n",
      "\n",
      "LinearSVC (linear kernel)\n",
      "Tempo de treinamento: 0.013851404190063477s\n",
      "Score do modelo LinearSVC (linear kernel) nos dados de teste: 0.9347826086956522\n",
      "Predicted:  [1 0 1 1 0 1 1 0 0 0 1 1 1 0 1 1 0 1 1 1]\n",
      "Expected:  [1 0 0 1 0 1 1 0 0 0 1 1 1 0 1 1 1 1 1 1]\n",
      "\n",
      "SVC with RBF kernel\n",
      "Tempo de treinamento: 0.0065860748291015625s\n",
      "Score do modelo SVC with RBF kernel nos dados de teste: 0.9130434782608695\n",
      "Predicted:  [1 0 1 1 0 1 1 0 0 0 1 1 1 0 1 0 1 0 1 1]\n",
      "Expected:  [1 0 0 1 0 1 1 0 0 0 1 1 1 0 1 1 1 1 1 1]\n",
      "\n",
      "SVC with polynomial (degree 2) kernel\n",
      "Tempo de treinamento: 8.57551097869873s\n",
      "Score do modelo SVC with polynomial (degree 2) kernel nos dados de teste: 0.927536231884058\n",
      "Predicted:  [1 0 1 1 0 1 1 0 0 0 1 1 1 0 1 0 1 1 1 1]\n",
      "Expected:  [1 0 0 1 0 1 1 0 0 0 1 1 1 0 1 1 1 1 1 1]\n",
      "\n"
     ]
    }
   ],
   "source": [
    "import pandas as pd\n",
    "import time\n",
    "from sklearn import svm\n",
    "from sklearn.datasets import load_breast_cancer\n",
    "from sklearn.model_selection import train_test_split\n",
    "\n",
    "cancer = load_breast_cancer()\n",
    "data = pd.DataFrame(cancer['data'], columns=cancer['feature_names'])\n",
    "data['target'] = cancer['target']\n",
    "\n",
    "validation_data = data.sample(20)\n",
    "data.drop(validation_data.index, axis=0, inplace=True)\n",
    "validation_X = validation_data.drop('target', axis=1)\n",
    "validation_y = validation_data.drop(cancer.feature_names, axis=1)\n",
    "\n",
    "x = data.drop('target', axis=1)\n",
    "\n",
    "x_train, x_test, y_train, y_test = train_test_split(x, data['target'], test_size=0.25, random_state=42)\n",
    "\n",
    "C = 1.0\n",
    "models = (\n",
    "    svm.SVC(kernel=\"linear\", C=C),\n",
    "    svm.LinearSVC(C=C, max_iter=10000, dual=False),\n",
    "    svm.SVC(kernel=\"rbf\", gamma=0.001, C=C),\n",
    "    svm.SVC(kernel=\"poly\", degree=2, gamma=\"auto\", C=C),\n",
    ")\n",
    "\n",
    "titles = (\n",
    "    \"SVC with linear kernel\",\n",
    "    \"LinearSVC (linear kernel)\",\n",
    "    \"SVC with RBF kernel\",\n",
    "    \"SVC with polynomial (degree 2) kernel\",\n",
    ")\n",
    "\n",
    "for title, clf in zip(titles, models):\n",
    "    print(title)\n",
    "    start = time.time()\n",
    "    clf.fit(x_train, y_train)\n",
    "    end = time.time()\n",
    "    print(f\"Tempo de treinamento: {end - start}s\")\n",
    "    print(f\"Score do modelo {title} nos dados de teste: {clf.score(x_test, y_test)}\")\n",
    "    res = clf.predict(validation_X)\n",
    "    print(\"Predicted: \", res.flatten())\n",
    "    print(\"Expected: \", validation_y.to_numpy().flatten())\n",
    "    print()\n"
   ]
  }
 ],
 "metadata": {
  "kernelspec": {
   "display_name": "Python 3",
   "language": "python",
   "name": "python3"
  },
  "language_info": {
   "codemirror_mode": {
    "name": "ipython",
    "version": 3
   },
   "file_extension": ".py",
   "mimetype": "text/x-python",
   "name": "python",
   "nbconvert_exporter": "python",
   "pygments_lexer": "ipython3",
   "version": "3.10.12"
  }
 },
 "nbformat": 4,
 "nbformat_minor": 2
}
