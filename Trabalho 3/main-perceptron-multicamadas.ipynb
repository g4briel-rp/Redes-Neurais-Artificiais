{
 "cells": [
  {
   "cell_type": "code",
   "execution_count": 1,
   "metadata": {},
   "outputs": [
    {
     "name": "stdout",
     "output_type": "stream",
     "text": [
      "Tempo de treinamento:  0.4034254550933838\n",
      "Acuracia do modelo:  0.9782608695652174\n",
      "Predicted:  [1 1 0 1 0 0 0 0 0 1 1 1 0 1 0 1 1 0 1 1]\n",
      "Expected:  [1 1 1 1 0 0 1 0 0 1 1 1 0 1 0 1 1 0 1 1]\n"
     ]
    }
   ],
   "source": [
    "import numpy as np\n",
    "import pandas as pd\n",
    "import time\n",
    "from sklearn.model_selection import train_test_split\n",
    "from sklearn.datasets import load_breast_cancer\n",
    "from sklearn.neural_network import MLPClassifier\n",
    "\n",
    "cancer = load_breast_cancer()\n",
    "data = pd.DataFrame(cancer['data'], columns=cancer['feature_names'])\n",
    "data['target'] = cancer['target']\n",
    "\n",
    "validation_data = data.sample(20)\n",
    "data.drop(validation_data.index, axis=0, inplace=True)\n",
    "validation_X = validation_data.drop('target', axis=1)\n",
    "validation_y = validation_data.drop(cancer.feature_names, axis=1)\n",
    "\n",
    "x = data.drop('target', axis=1)\n",
    "\n",
    "x_train, x_test, y_train, y_test = train_test_split(x, data['target'], test_size=0.25, random_state=42)\n",
    "\n",
    "model = MLPClassifier(hidden_layer_sizes=(5,5,5), max_iter=2000, activation = 'relu',solver='adam')\n",
    "\n",
    "start_time = time.time()\n",
    "model.fit(x_train, y_train)\n",
    "end_time = time.time()\n",
    "print(\"Tempo de treinamento: \", end_time - start_time)\n",
    "\n",
    "acc = model.score(x_test, y_test)\n",
    "print(\"Acuracia do modelo: \", acc)\n",
    "res = model.predict(validation_X)\n",
    "print(\"Predicted: \", res.flatten())\n",
    "print(\"Expected: \", validation_y.to_numpy().flatten())\n"
   ]
  }
 ],
 "metadata": {
  "kernelspec": {
   "display_name": "Python 3",
   "language": "python",
   "name": "python3"
  },
  "language_info": {
   "codemirror_mode": {
    "name": "ipython",
    "version": 3
   },
   "file_extension": ".py",
   "mimetype": "text/x-python",
   "name": "python",
   "nbconvert_exporter": "python",
   "pygments_lexer": "ipython3",
   "version": "3.10.12"
  }
 },
 "nbformat": 4,
 "nbformat_minor": 2
}
