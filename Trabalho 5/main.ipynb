{
 "cells": [
  {
   "cell_type": "code",
   "execution_count": 5,
   "metadata": {},
   "outputs": [
    {
     "name": "stdout",
     "output_type": "stream",
     "text": [
      "Acuracia do modelo:  0.7841\n",
      "Predicted:  [8 8 7 4 8 4 1 0 4 5 1 7 4 9 4]\n",
      "Expected:  [8 8 7 4 8 4 1 0 4 5 3 7 4 9 4]\n"
     ]
    }
   ],
   "source": [
    "import mnist_reader\n",
    "from sklearn.model_selection import train_test_split\n",
    "from sklearn.neural_network import MLPClassifier\n",
    "\n",
    "x_train, y_train = mnist_reader.load_mnist('data/fashion', kind='train')\n",
    "x_train, validation_x, y_train, validation_y = train_test_split(x_train, y_train, test_size=15, random_state=42)\n",
    "\n",
    "x_test, y_test = mnist_reader.load_mnist('data/fashion', kind='t10k')\n",
    "\n",
    "model = MLPClassifier(hidden_layer_sizes=(10,10), max_iter=500, activation='relu', solver='adam')\n",
    "\n",
    "model.fit(x_train, y_train)\n",
    "acc = model.score(x_test, y_test)\n",
    "print(\"Acuracia do modelo: \", acc)\n",
    "res = model.predict(validation_x)\n",
    "print(\"Predicted: \", res.flatten())\n",
    "print(\"Expected: \", validation_y)"
   ]
  }
 ],
 "metadata": {
  "kernelspec": {
   "display_name": "Python 3",
   "language": "python",
   "name": "python3"
  },
  "language_info": {
   "codemirror_mode": {
    "name": "ipython",
    "version": 3
   },
   "file_extension": ".py",
   "mimetype": "text/x-python",
   "name": "python",
   "nbconvert_exporter": "python",
   "pygments_lexer": "ipython3",
   "version": "3.10.12"
  }
 },
 "nbformat": 4,
 "nbformat_minor": 2
}
