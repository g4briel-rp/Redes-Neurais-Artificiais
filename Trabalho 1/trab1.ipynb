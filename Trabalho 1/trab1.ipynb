{
 "cells": [
  {
   "cell_type": "code",
   "execution_count": 35,
   "metadata": {},
   "outputs": [
    {
     "name": "stdout",
     "output_type": "stream",
     "text": [
      "Acuracia do modelo:  1.0\n",
      "Número de iterações:  125\n",
      "Predicted:  [1 0 1 ... 0 1 0]\n",
      "Expected:  [1 0 1 ... 0 1 0]\n"
     ]
    }
   ],
   "source": [
    "import numpy as np\n",
    "import pandas as pd\n",
    "import seaborn as sns \n",
    "from sklearn.preprocessing import OneHotEncoder\n",
    "from sklearn.model_selection import train_test_split\n",
    "from sklearn.neural_network import MLPClassifier\n",
    "from joblib import dump, load\n",
    "\n",
    "dataframe = pd.read_csv(\"dataset-cogumelos/mushrooms.csv\")\n",
    "\n",
    "feature_names = np.array(['class', 'cap-shape', 'cap-surface', 'cap-color', 'bruises', 'odor', 'gill-attachment', 'gill-spacing', 'gill-size', 'gill-color', 'stalk-shape', 'stalk-root', 'stalk-surface-above-ring', 'stalk-surface-below-ring', 'stalk-color-above-ring', 'stalk-color-below-ring', 'veil-type', 'veil-color', 'ring-number', 'ring-type', 'spore-print-color', 'population', 'habitat'])\n",
    "\n",
    "enc = OneHotEncoder()\n",
    "\n",
    "for names in feature_names: \n",
    "    if names == 'stalk-root':\n",
    "        dataframe = dataframe.drop(names, axis=1)\n",
    "    else:\n",
    "        dataframe = pd.get_dummies(dataframe, prefix=[names], columns=[names], dtype=int)\n",
    "\n",
    "validation = dataframe.sample(2031)\n",
    "\n",
    "dataframe.drop(validation.index, axis=0, inplace=True)\n",
    "\n",
    "validation_X = validation.drop(['class_e', 'class_p'], axis=1)\n",
    "\n",
    "validation_y = validation.loc[:, ['class_e', 'class_p']]\n",
    "\n",
    "feature = dataframe.drop(['class_e', 'class_p'], axis=1)\n",
    "\n",
    "x_train, x_test, y_train, y_test = train_test_split(feature, dataframe[['class_e', 'class_p']], random_state=42, test_size=0.25)\n",
    "\n",
    "model = MLPClassifier(hidden_layer_sizes=(5,5,5), max_iter=500, activation='relu', solver='adam')\n",
    "\n",
    "model.fit(x_train, y_train)\n",
    "\n",
    "acc = model.score(x_test, y_test)\n",
    "print(\"Acuracia do modelo: \", acc)\n",
    "print(\"Número de iterações: \", model.n_iter_)\n",
    "\n",
    "res = model.predict(validation_X)\n",
    "print(\"Predicted: \", res.flatten())\n",
    "print(\"Expected: \", validation_y.to_numpy().flatten())\n",
    "\n",
    "# dump(model, 'rd.joblib')\n",
    "# carrega o arquivo\n",
    "# model = load('rd.joblib')"
   ]
  }
 ],
 "metadata": {
  "kernelspec": {
   "display_name": "Python 3",
   "language": "python",
   "name": "python3"
  },
  "language_info": {
   "codemirror_mode": {
    "name": "ipython",
    "version": 3
   },
   "file_extension": ".py",
   "mimetype": "text/x-python",
   "name": "python",
   "nbconvert_exporter": "python",
   "pygments_lexer": "ipython3",
   "version": "3.10.12"
  },
  "orig_nbformat": 4
 },
 "nbformat": 4,
 "nbformat_minor": 2
}
